{
 "cells": [
  {
   "cell_type": "code",
   "execution_count": 1,
   "metadata": {},
   "outputs": [],
   "source": [
    "import pandas as pd"
   ]
  },
  {
   "cell_type": "code",
   "execution_count": 14,
   "metadata": {},
   "outputs": [],
   "source": [
    "df = pd.read_csv(\"data/State_wise_Tax_2019.csv\")"
   ]
  },
  {
   "cell_type": "code",
   "execution_count": 17,
   "metadata": {},
   "outputs": [
    {
     "data": {
      "text/plain": [
       "0    3.67\n",
       "Name: TaxRate, dtype: float64"
      ]
     },
     "execution_count": 17,
     "metadata": {},
     "output_type": "execute_result"
    }
   ],
   "source": [
    "df.loc[df['Abbreviation']=='al']['TaxRate']"
   ]
  },
  {
   "cell_type": "code",
   "execution_count": 20,
   "metadata": {},
   "outputs": [
    {
     "data": {
      "text/plain": [
       "pandas.core.frame.DataFrame"
      ]
     },
     "execution_count": 20,
     "metadata": {},
     "output_type": "execute_result"
    }
   ],
   "source": [
    "type(df)\n",
    "\n",
    "\n"
   ]
  },
  {
   "cell_type": "code",
   "execution_count": null,
   "metadata": {},
   "outputs": [],
   "source": []
  },
  {
   "cell_type": "code",
   "execution_count": 9,
   "metadata": {},
   "outputs": [],
   "source": [
    "def get_choice(data, column):\n",
    "    \"\"\"\n",
    "    Gets user choice\n",
    "    \"\"\"\n",
    "    nums = [val for val in range(len(df[column].unique()))]\n",
    "    choices = list(zip(nums, df[column].unique()))\n",
    "    print(\"What '%s' would you like?\\n\" % column)\n",
    "    for v in choices:\n",
    "        print(\"%s.  %s\" % (v))\n",
    "    user_input = input(\"Answer: \")\n",
    "    user_answer = [val[1] for val in choices if val[0]==int(user_input)][0]\n",
    "    print(\"'%s' = %s\\n\" % (column, user_answer)) # Just tells the user what they answered\n",
    "    return user_answer"
   ]
  },
  {
   "cell_type": "code",
   "execution_count": 10,
   "metadata": {},
   "outputs": [],
   "source": [
    "\n",
    "def main():\n",
    "\n",
    "    year_input = get_choice(data=df, column=\"fy\")\n",
    "    zone_input = get_choice(data=df, column=\"zone\")\n",
    "    newdf = df.loc[(df[\"fy\"]==year_input)&(df[\"zone\"]==zone_input)]\n",
    "    print(newdf)"
   ]
  },
  {
   "cell_type": "code",
   "execution_count": 12,
   "metadata": {},
   "outputs": [
    {
     "name": "stdout",
     "output_type": "stream",
     "text": [
      "What 'fy' would you like?\n",
      "\n",
      "0.  2014\n",
      "1.  2015\n",
      "2.  2016\n",
      "Answer: 0\n",
      "'fy' = 2014\n",
      "\n",
      "What 'zone' would you like?\n",
      "\n",
      "0.  AZW - Acquisition Zone West\n",
      "1.  NAZ - Northern Acquisition Zone\n",
      "2.  SAZ - Southern Acquisition Zone\n",
      "Answer: 0\n",
      "'zone' = AZW - Acquisition Zone West\n",
      "\n",
      "    PIID    fy                         zone\n",
      "0  38542  2014  AZW - Acquisition Zone West\n"
     ]
    }
   ],
   "source": [
    "\n",
    "if __name__ == \"__main__\":\n",
    "    main()"
   ]
  },
  {
   "cell_type": "code",
   "execution_count": null,
   "metadata": {},
   "outputs": [],
   "source": []
  }
 ],
 "metadata": {
  "kernelspec": {
   "display_name": "Python 3",
   "language": "python",
   "name": "python3"
  },
  "language_info": {
   "codemirror_mode": {
    "name": "ipython",
    "version": 3
   },
   "file_extension": ".py",
   "mimetype": "text/x-python",
   "name": "python",
   "nbconvert_exporter": "python",
   "pygments_lexer": "ipython3",
   "version": "3.6.5"
  }
 },
 "nbformat": 4,
 "nbformat_minor": 2
}
